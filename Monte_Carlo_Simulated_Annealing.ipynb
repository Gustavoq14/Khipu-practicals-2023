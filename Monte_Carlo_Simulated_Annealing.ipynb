{
  "nbformat": 4,
  "nbformat_minor": 0,
  "metadata": {
    "colab": {
      "provenance": [],
      "authorship_tag": "ABX9TyNhLlOQ9iS5exXE+DDIbB1o",
      "include_colab_link": true
    },
    "kernelspec": {
      "name": "python3",
      "display_name": "Python 3"
    },
    "language_info": {
      "name": "python"
    }
  },
  "cells": [
    {
      "cell_type": "markdown",
      "metadata": {
        "id": "view-in-github",
        "colab_type": "text"
      },
      "source": [
        "<a href=\"https://colab.research.google.com/github/Gustavoq14/Khipu-practicals-2023/blob/main/Monte_Carlo_Simulated_Annealing.ipynb\" target=\"_parent\"><img src=\"https://colab.research.google.com/assets/colab-badge.svg\" alt=\"Open In Colab\"/></a>"
      ]
    },
    {
      "cell_type": "markdown",
      "source": [
        "# Método de Monte Carlo - Simulated Annealing\n",
        "\n",
        "En el presente notebook se compara el algoritmo de Monte Carlo - Simulated Annealing propuesto en 2019 por Federico Costa, Cristián Huck-Iriart y Alejandra Vahnovan con 3 algoritmos clasicos de optimización.\n",
        "- Aceptación y Rechazo\n",
        "- Simulated Annealing\n",
        "- Maximo Gradiente\n",
        "\n",
        "El algoritmo propuesto se destaca por desacoplar los parámetros lineales de los no lineales de la función objetivo (multiparamétrica). Donde la búsqueda aleatoria sólo se centra en los términos no lineales y el resto de los términos se computan en cada simulación mediante cuadrados mínimos lineales. Esto disminuye el tiempo de máquina al reducir la dimensionalidad del espacio de muestreo.\n",
        "\n",
        "# 1.  Librerias"
      ],
      "metadata": {
        "id": "Jwujw5-Co5kK"
      }
    },
    {
      "cell_type": "code",
      "source": [
        "import matplotlib.pyplot as plt\n",
        "import numpy as np"
      ],
      "metadata": {
        "id": "wjjS8MGhpNz0"
      },
      "execution_count": 11,
      "outputs": []
    },
    {
      "cell_type": "code",
      "source": [],
      "metadata": {
        "id": "9Ca1YvBuv5Ad"
      },
      "execution_count": null,
      "outputs": []
    }
  ]
}